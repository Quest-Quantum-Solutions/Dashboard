{
 "cells": [
  {
   "cell_type": "code",
   "execution_count": 4,
   "id": "334e609a-6367-4de2-9586-a28314f48b14",
   "metadata": {
    "tags": []
   },
   "outputs": [],
   "source": [
    "import pandas as pd"
   ]
  },
  {
   "cell_type": "code",
   "execution_count": 10,
   "id": "ceef5901-320a-48cc-875d-cf725135d112",
   "metadata": {
    "tags": []
   },
   "outputs": [
    {
     "data": {
      "text/html": [
       "<div>\n",
       "<style scoped>\n",
       "    .dataframe tbody tr th:only-of-type {\n",
       "        vertical-align: middle;\n",
       "    }\n",
       "\n",
       "    .dataframe tbody tr th {\n",
       "        vertical-align: top;\n",
       "    }\n",
       "\n",
       "    .dataframe thead th {\n",
       "        text-align: right;\n",
       "    }\n",
       "</style>\n",
       "<table border=\"1\" class=\"dataframe\">\n",
       "  <thead>\n",
       "    <tr style=\"text-align: right;\">\n",
       "      <th></th>\n",
       "      <th>Ticker</th>\n",
       "      <th>Rescaled_Weights</th>\n",
       "    </tr>\n",
       "    <tr>\n",
       "      <th>Date</th>\n",
       "      <th></th>\n",
       "      <th></th>\n",
       "    </tr>\n",
       "  </thead>\n",
       "  <tbody>\n",
       "    <tr>\n",
       "      <th>2013-05-10</th>\n",
       "      <td>GLD</td>\n",
       "      <td>0.188872</td>\n",
       "    </tr>\n",
       "    <tr>\n",
       "      <th>2013-05-10</th>\n",
       "      <td>UNG</td>\n",
       "      <td>0.188872</td>\n",
       "    </tr>\n",
       "    <tr>\n",
       "      <th>2013-05-10</th>\n",
       "      <td>SH</td>\n",
       "      <td>0.188872</td>\n",
       "    </tr>\n",
       "    <tr>\n",
       "      <th>2013-05-10</th>\n",
       "      <td>GSG</td>\n",
       "      <td>0.188872</td>\n",
       "    </tr>\n",
       "    <tr>\n",
       "      <th>2013-05-10</th>\n",
       "      <td>XLB</td>\n",
       "      <td>0.188872</td>\n",
       "    </tr>\n",
       "    <tr>\n",
       "      <th>...</th>\n",
       "      <td>...</td>\n",
       "      <td>...</td>\n",
       "    </tr>\n",
       "    <tr>\n",
       "      <th>2025-10-09</th>\n",
       "      <td>VOO</td>\n",
       "      <td>2.000000</td>\n",
       "    </tr>\n",
       "    <tr>\n",
       "      <th>2025-10-09</th>\n",
       "      <td>VOO</td>\n",
       "      <td>2.000000</td>\n",
       "    </tr>\n",
       "    <tr>\n",
       "      <th>2025-10-10</th>\n",
       "      <td>VOO</td>\n",
       "      <td>2.000000</td>\n",
       "    </tr>\n",
       "    <tr>\n",
       "      <th>2025-10-14</th>\n",
       "      <td>VOO</td>\n",
       "      <td>1.020651</td>\n",
       "    </tr>\n",
       "    <tr>\n",
       "      <th>2025-10-15</th>\n",
       "      <td>VOO</td>\n",
       "      <td>1.157174</td>\n",
       "    </tr>\n",
       "  </tbody>\n",
       "</table>\n",
       "<p>8658 rows × 2 columns</p>\n",
       "</div>"
      ],
      "text/plain": [
       "           Ticker  Rescaled_Weights\n",
       "Date                               \n",
       "2013-05-10    GLD          0.188872\n",
       "2013-05-10    UNG          0.188872\n",
       "2013-05-10     SH          0.188872\n",
       "2013-05-10    GSG          0.188872\n",
       "2013-05-10    XLB          0.188872\n",
       "...           ...               ...\n",
       "2025-10-09    VOO          2.000000\n",
       "2025-10-09    VOO          2.000000\n",
       "2025-10-10    VOO          2.000000\n",
       "2025-10-14    VOO          1.020651\n",
       "2025-10-15    VOO          1.157174\n",
       "\n",
       "[8658 rows x 2 columns]"
      ]
     },
     "execution_count": 10,
     "metadata": {},
     "output_type": "execute_result"
    }
   ],
   "source": [
    "\n",
    "df = pd.read_pickle('backtest_STR_Weights.pkl')\n",
    "df"
   ]
  },
  {
   "cell_type": "code",
   "execution_count": 7,
   "id": "9ed2f18f-1d1c-4795-86c2-cd3ff4a47bb0",
   "metadata": {},
   "outputs": [],
   "source": [
    "from scipy.stats import ttest_ind, levene"
   ]
  },
  {
   "cell_type": "code",
   "execution_count": null,
   "id": "97facd44-86f3-4707-b2bb-ef38ab659dcd",
   "metadata": {},
   "outputs": [],
   "source": []
  }
 ],
 "metadata": {
  "kernelspec": {
   "display_name": "Python (trade1)",
   "language": "python",
   "name": "trade1"
  },
  "language_info": {
   "codemirror_mode": {
    "name": "ipython",
    "version": 3
   },
   "file_extension": ".py",
   "mimetype": "text/x-python",
   "name": "python",
   "nbconvert_exporter": "python",
   "pygments_lexer": "ipython3",
   "version": "3.11.7"
  }
 },
 "nbformat": 4,
 "nbformat_minor": 5
}
