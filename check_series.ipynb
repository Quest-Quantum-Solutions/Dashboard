{
 "cells": [
  {
   "cell_type": "code",
   "execution_count": 4,
   "id": "334e609a-6367-4de2-9586-a28314f48b14",
   "metadata": {
    "tags": []
   },
   "outputs": [],
   "source": [
    "import pandas as pd"
   ]
  },
  {
   "cell_type": "code",
   "execution_count": 8,
   "id": "ceef5901-320a-48cc-875d-cf725135d112",
   "metadata": {
    "tags": []
   },
   "outputs": [
    {
     "data": {
      "text/html": [
       "<div>\n",
       "<style scoped>\n",
       "    .dataframe tbody tr th:only-of-type {\n",
       "        vertical-align: middle;\n",
       "    }\n",
       "\n",
       "    .dataframe tbody tr th {\n",
       "        vertical-align: top;\n",
       "    }\n",
       "\n",
       "    .dataframe thead th {\n",
       "        text-align: right;\n",
       "    }\n",
       "</style>\n",
       "<table border=\"1\" class=\"dataframe\">\n",
       "  <thead>\n",
       "    <tr style=\"text-align: right;\">\n",
       "      <th></th>\n",
       "      <th>Date</th>\n",
       "      <th>Strat_Ret</th>\n",
       "      <th>Bench_Ret</th>\n",
       "    </tr>\n",
       "  </thead>\n",
       "  <tbody>\n",
       "    <tr>\n",
       "      <th>0</th>\n",
       "      <td>2013-05-15</td>\n",
       "      <td>0.013423</td>\n",
       "      <td>0.005685</td>\n",
       "    </tr>\n",
       "    <tr>\n",
       "      <th>1</th>\n",
       "      <td>2013-05-16</td>\n",
       "      <td>0.008482</td>\n",
       "      <td>-0.004601</td>\n",
       "    </tr>\n",
       "    <tr>\n",
       "      <th>2</th>\n",
       "      <td>2013-05-17</td>\n",
       "      <td>0.001698</td>\n",
       "      <td>0.009508</td>\n",
       "    </tr>\n",
       "    <tr>\n",
       "      <th>3</th>\n",
       "      <td>2013-05-20</td>\n",
       "      <td>0.007022</td>\n",
       "      <td>0.000000</td>\n",
       "    </tr>\n",
       "    <tr>\n",
       "      <th>4</th>\n",
       "      <td>2013-05-21</td>\n",
       "      <td>0.003669</td>\n",
       "      <td>0.001308</td>\n",
       "    </tr>\n",
       "    <tr>\n",
       "      <th>...</th>\n",
       "      <td>...</td>\n",
       "      <td>...</td>\n",
       "      <td>...</td>\n",
       "    </tr>\n",
       "    <tr>\n",
       "      <th>3114</th>\n",
       "      <td>2025-10-01</td>\n",
       "      <td>0.000941</td>\n",
       "      <td>0.003576</td>\n",
       "    </tr>\n",
       "    <tr>\n",
       "      <th>3115</th>\n",
       "      <td>2025-10-02</td>\n",
       "      <td>0.020867</td>\n",
       "      <td>0.001106</td>\n",
       "    </tr>\n",
       "    <tr>\n",
       "      <th>3116</th>\n",
       "      <td>2025-10-03</td>\n",
       "      <td>-0.001719</td>\n",
       "      <td>0.000081</td>\n",
       "    </tr>\n",
       "    <tr>\n",
       "      <th>3117</th>\n",
       "      <td>2025-10-06</td>\n",
       "      <td>0.004871</td>\n",
       "      <td>0.003413</td>\n",
       "    </tr>\n",
       "    <tr>\n",
       "      <th>3118</th>\n",
       "      <td>2025-10-09</td>\n",
       "      <td>0.005766</td>\n",
       "      <td>NaN</td>\n",
       "    </tr>\n",
       "  </tbody>\n",
       "</table>\n",
       "<p>3119 rows × 3 columns</p>\n",
       "</div>"
      ],
      "text/plain": [
       "           Date  Strat_Ret  Bench_Ret\n",
       "0    2013-05-15   0.013423   0.005685\n",
       "1    2013-05-16   0.008482  -0.004601\n",
       "2    2013-05-17   0.001698   0.009508\n",
       "3    2013-05-20   0.007022   0.000000\n",
       "4    2013-05-21   0.003669   0.001308\n",
       "...         ...        ...        ...\n",
       "3114 2025-10-01   0.000941   0.003576\n",
       "3115 2025-10-02   0.020867   0.001106\n",
       "3116 2025-10-03  -0.001719   0.000081\n",
       "3117 2025-10-06   0.004871   0.003413\n",
       "3118 2025-10-09   0.005766        NaN\n",
       "\n",
       "[3119 rows x 3 columns]"
      ]
     },
     "execution_count": 8,
     "metadata": {},
     "output_type": "execute_result"
    }
   ],
   "source": [
    "\n",
    "df = pd.read_pickle('Str_Bench_RET.pkl')\n",
    "df"
   ]
  },
  {
   "cell_type": "code",
   "execution_count": 7,
   "id": "9ed2f18f-1d1c-4795-86c2-cd3ff4a47bb0",
   "metadata": {},
   "outputs": [],
   "source": [
    "from scipy.stats import ttest_ind, levene"
   ]
  },
  {
   "cell_type": "code",
   "execution_count": null,
   "id": "97facd44-86f3-4707-b2bb-ef38ab659dcd",
   "metadata": {},
   "outputs": [],
   "source": []
  }
 ],
 "metadata": {
  "kernelspec": {
   "display_name": "Python (trade1)",
   "language": "python",
   "name": "trade1"
  },
  "language_info": {
   "codemirror_mode": {
    "name": "ipython",
    "version": 3
   },
   "file_extension": ".py",
   "mimetype": "text/x-python",
   "name": "python",
   "nbconvert_exporter": "python",
   "pygments_lexer": "ipython3",
   "version": "3.11.7"
  }
 },
 "nbformat": 4,
 "nbformat_minor": 5
}
